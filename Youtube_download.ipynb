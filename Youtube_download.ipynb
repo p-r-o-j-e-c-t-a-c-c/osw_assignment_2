{
 "cells": [
  {
   "cell_type": "code",
   "execution_count": 1,
   "id": "a148f62e",
   "metadata": {},
   "outputs": [
    {
     "name": "stdout",
     "output_type": "stream",
     "text": [
      "Collecting https://github.com/yt-dlp/yt-dlp/archive/master.tar.gz\n",
      "  Downloading https://github.com/yt-dlp/yt-dlp/archive/master.tar.gz (2.4 MB)\n",
      "     ---------------------------------------- 2.4/2.4 MB 2.4 MB/s eta 0:00:00\n",
      "  Installing build dependencies: started\n",
      "  Installing build dependencies: finished with status 'done'\n",
      "  Getting requirements to build wheel: started\n",
      "  Getting requirements to build wheel: finished with status 'done'\n",
      "  Installing backend dependencies: started\n",
      "  Installing backend dependencies: finished with status 'done'\n",
      "  Preparing metadata (pyproject.toml): started\n",
      "  Preparing metadata (pyproject.toml): finished with status 'done'\n",
      "Collecting brotli\n",
      "  Downloading Brotli-1.0.9-cp310-cp310-win_amd64.whl (383 kB)\n",
      "     -------------------------------------- 383.3/383.3 kB 2.0 MB/s eta 0:00:00\n",
      "Collecting certifi\n",
      "  Downloading certifi-2023.5.7-py3-none-any.whl (156 kB)\n",
      "     -------------------------------------- 157.0/157.0 kB 4.7 MB/s eta 0:00:00\n",
      "Collecting pycryptodomex\n",
      "  Downloading pycryptodomex-3.18.0-cp35-abi3-win_amd64.whl (1.7 MB)\n",
      "     ---------------------------------------- 1.7/1.7 MB 3.9 MB/s eta 0:00:00\n",
      "Collecting mutagen\n",
      "  Downloading mutagen-1.46.0-py3-none-any.whl (193 kB)\n",
      "     -------------------------------------- 193.6/193.6 kB 3.9 MB/s eta 0:00:00\n",
      "Collecting websockets\n",
      "  Downloading websockets-11.0.3-cp310-cp310-win_amd64.whl (124 kB)\n",
      "     ---------------------------------------- 124.7/124.7 kB ? eta 0:00:00\n",
      "Building wheels for collected packages: yt-dlp\n",
      "  Building wheel for yt-dlp (pyproject.toml): started\n",
      "  Building wheel for yt-dlp (pyproject.toml): finished with status 'done'\n",
      "  Created wheel for yt-dlp: filename=yt_dlp-2023.3.4-py2.py3-none-any.whl size=2741418 sha256=ccca976eb89cb57c3369e2473401ed9a3a0e50a859291b6ba8320f361ec25779\n",
      "  Stored in directory: C:\\Users\\ASUS\\AppData\\Local\\Temp\\pip-ephem-wheel-cache-usd_nv8q\\wheels\\4c\\91\\d1\\c5369304e2f7afb660bb6eee093af5a7d3c0ea05a3c1e8c797\n",
      "Successfully built yt-dlp\n",
      "Installing collected packages: brotli, websockets, pycryptodomex, mutagen, certifi, yt-dlp\n",
      "  Attempting uninstall: certifi\n",
      "    Found existing installation: certifi 2022.12.7\n",
      "    Uninstalling certifi-2022.12.7:\n",
      "      Successfully uninstalled certifi-2022.12.7\n",
      "Successfully installed brotli-1.0.9 certifi-2023.5.7 mutagen-1.46.0 pycryptodomex-3.18.0 websockets-11.0.3 yt-dlp-2023.3.4\n",
      "Note: you may need to restart the kernel to use updated packages.\n"
     ]
    },
    {
     "name": "stderr",
     "output_type": "stream",
     "text": [
      "ERROR: pip's dependency resolver does not currently take into account all the packages that are installed. This behaviour is the source of the following dependency conflicts.\n",
      "conda-repo-cli 1.0.41 requires requests_mock, which is not installed.\n",
      "conda-repo-cli 1.0.41 requires clyent==1.2.1, but you have clyent 1.2.2 which is incompatible.\n",
      "conda-repo-cli 1.0.41 requires nbformat==5.4.0, but you have nbformat 5.7.0 which is incompatible.\n"
     ]
    }
   ],
   "source": [
    "pip install --force-reinstall https://github.com/yt-dlp/yt-dlp/archive/master.tar.gz"
   ]
  },
  {
   "cell_type": "code",
   "execution_count": 2,
   "id": "2d42bebd",
   "metadata": {},
   "outputs": [
    {
     "name": "stdout",
     "output_type": "stream",
     "text": [
      "[youtube] Extracting URL: http://www.youtube.com/watch?v=Lr9xbHtpAfU\n",
      "[youtube] Lr9xbHtpAfU: Downloading webpage\n",
      "[youtube] Lr9xbHtpAfU: Downloading android player API JSON\n",
      "[youtube] Lr9xbHtpAfU: Downloading MPD manifest\n",
      "[info] Lr9xbHtpAfU: Downloading 1 format(s): 248+251\n"
     ]
    },
    {
     "name": "stderr",
     "output_type": "stream",
     "text": [
      "WARNING: You have requested merging of multiple formats but ffmpeg is not installed. The formats won't be merged\n"
     ]
    },
    {
     "name": "stdout",
     "output_type": "stream",
     "text": [
      "[dashsegments] Total fragments: 54\n",
      "[download] Destination: 저장 경로 템플릿.f248.webm\n",
      "[download] 100% of   55.26MiB in 00:00:33 at 1.67MiB/s                    Done downloading, now converting ...\n",
      "\n",
      "[download] Destination: 저장 경로 템플릿.f251.webm\n",
      "[download] 100% of    4.63MiB in 00:00:01 at 3.47MiB/s   Done downloading, now converting ...\n",
      "\n"
     ]
    }
   ],
   "source": [
    "from __future__ import unicode_literals\n",
    "import yt_dlp as youtube_dl\n",
    "\n",
    "def my_hook(d):\n",
    "    if d['status'] == 'finished':\n",
    "        print('Done downloading, now converting ...')\n",
    "\n",
    "ydl_opts = {\n",
    "    'download_archive': 'archive.txt',\n",
    "    'ignoreerrors': True,\n",
    "    'nooverwrites': True,\n",
    "    'format': 'bestvideo[height<=1080]+bestaudio/best[height<=1080]/best',       \n",
    "    'outtmpl': '저장 경로 템플릿',        \n",
    "    'noplaylist' : False,       \n",
    "    'progress_hooks': [my_hook],  \n",
    "}\n",
    "\n",
    "with youtube_dl.YoutubeDL(ydl_opts) as ydl:\n",
    "    ydl.download(['http://www.youtube.com/watch?v=Lr9xbHtpAfU'])\n",
    "\n",
    "\n"
   ]
  },
  {
   "cell_type": "code",
   "execution_count": null,
   "id": "e56c7189",
   "metadata": {},
   "outputs": [],
   "source": []
  }
 ],
 "metadata": {
  "kernelspec": {
   "display_name": "Python 3 (ipykernel)",
   "language": "python",
   "name": "python3"
  },
  "language_info": {
   "codemirror_mode": {
    "name": "ipython",
    "version": 3
   },
   "file_extension": ".py",
   "mimetype": "text/x-python",
   "name": "python",
   "nbconvert_exporter": "python",
   "pygments_lexer": "ipython3",
   "version": "3.10.9"
  }
 },
 "nbformat": 4,
 "nbformat_minor": 5
}
